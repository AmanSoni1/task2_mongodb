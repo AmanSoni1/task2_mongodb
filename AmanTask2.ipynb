{
 "cells": [
  {
   "cell_type": "code",
   "execution_count": 17,
   "id": "2452b69d",
   "metadata": {},
   "outputs": [],
   "source": [
    "import pandas as pd\n",
    "import yfinance as yf\n",
    "\n",
    "import pymongo\n",
    "from pymongo import MongoClient\n",
    "\n",
    "icici = yf.Ticker(\"ICICIBANK.NS\")\n",
    "df = icici.history(start='2023-10-16',end=\"2023-10-23\",interval='1m')\n",
    "\n",
    "date = list(df.index)\n",
    "mylist = []\n",
    "for i in date:\n",
    "    if(i.time().hour == 11 and i.time().minute >=15):\n",
    "        if(i.time().minute % 15 == 0):\n",
    "            mylist.append(i)\n",
    "\n",
    "    if(i.time().hour >= 12 and i.time().hour <= 14):\n",
    "        \n",
    "        if(i.time().hour < 14):\n",
    "            if(i.time().minute % 15 == 0):\n",
    "                mylist.append(i)\n",
    "                \n",
    "        elif(i.time().hour == 14 and i.time().minute <=15):\n",
    "            if(i.time().minute % 15 == 0):\n",
    "                mylist.append(i)\n",
    "        \n",
    "df = df.loc[mylist]\n",
    "\n",
    "df[\"time\"] = df.index\n",
    "\n",
    "client = pymongo.MongoClient(\"mongodb+srv://Amans_0511:<hidden>@data.nms54u9.mongodb.net/\") # password hidden\n",
    "db = client[\"data\"]\n",
    "collection = db[\"market\"]\n",
    "\n",
    "data_list = df.to_dict(orient=\"records\")\n",
    "collection.insert_many(data_list)\n",
    "\n",
    "client.close()"
   ]
  }
 ],
 "metadata": {
  "kernelspec": {
   "display_name": "Python 3 (ipykernel)",
   "language": "python",
   "name": "python3"
  },
  "language_info": {
   "codemirror_mode": {
    "name": "ipython",
    "version": 3
   },
   "file_extension": ".py",
   "mimetype": "text/x-python",
   "name": "python",
   "nbconvert_exporter": "python",
   "pygments_lexer": "ipython3",
   "version": "3.9.16"
  }
 },
 "nbformat": 4,
 "nbformat_minor": 5
}
